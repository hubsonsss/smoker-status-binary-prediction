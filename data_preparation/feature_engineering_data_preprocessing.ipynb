{
 "cells": [
  {
   "cell_type": "code",
   "execution_count": 26,
   "metadata": {},
   "outputs": [],
   "source": [
    "import pandas as pd\n",
    "import numpy as np\n",
    "import matplotlib.pyplot as plt\n",
    "import seaborn as sns\n",
    "\n",
    "import warnings\n",
    "%matplotlib inline\n"
   ]
  },
  {
   "cell_type": "code",
   "execution_count": 27,
   "metadata": {},
   "outputs": [],
   "source": [
    "train = pd.read_csv(\"data/data_merged.csv\")\n",
    "test = pd.read_csv(\"data/test.csv\")\n"
   ]
  },
  {
   "cell_type": "markdown",
   "metadata": {},
   "source": [
    "<h1>1.Handling outliers<h1\n"
   ]
  },
  {
   "cell_type": "code",
   "execution_count": 28,
   "metadata": {},
   "outputs": [],
   "source": [
    "# range for visual acuity is beetween [0.1, 2.0], bigger values are probably errors \n",
    "def handle_eyesight_outliers(data):\n",
    "    mask = (data['eyesight(left)'] > 2) | (data['eyesight(right)'] > 2)\n",
    "    data.loc[mask, 'eyesight(left)'] = data.loc[~mask, 'eyesight(left)'].median()\n",
    "    data.loc[mask, 'eyesight(right)'] = data.loc[~mask, 'eyesight(right)'].median()\n",
    "\n",
    "def handle_other_outliers(data):\n",
    "    cols = ['triglyceride','HDL','AST', 'ALT']\n",
    "    for column in cols:\n",
    "        upper_limit = data[column].quantile(0.99)\n",
    "        lower_limit = data[column].quantile(0.01)\n",
    "        data[column] = np.where(data[column] >= upper_limit,\n",
    "        upper_limit,\n",
    "        np.where(data[column] <= lower_limit,\n",
    "        lower_limit,\n",
    "        data[column]))\n",
    "\n",
    "    "
   ]
  },
  {
   "cell_type": "markdown",
   "metadata": {},
   "source": [
    "<h1>2. Log transformation<h1>"
   ]
  },
  {
   "cell_type": "code",
   "execution_count": 29,
   "metadata": {},
   "outputs": [],
   "source": [
    "def log_transform_columns(data):\n",
    "    cols = ['systolic', 'relaxation', 'fasting blood sugar', 'Cholesterol', 'triglyceride', 'HDL', 'LDL', 'serum creatinine', 'AST','ALT','GTP']\n",
    "    for column in cols:\n",
    "        data[column] = np.log(data[column] + 1)\n"
   ]
  },
  {
   "cell_type": "markdown",
   "metadata": {},
   "source": [
    "<h1>2. Creating new columns<h1>\n"
   ]
  },
  {
   "cell_type": "code",
   "execution_count": 12,
   "metadata": {},
   "outputs": [],
   "source": [
    "def adding_columns(data):\n",
    "    data = prev_data\n",
    "    data['BMI'] = data['weight(kg)'] / (data['height(cm)']/100)** 2\n",
    "    data['waist_to_height_ratio'] = data['waist(cm)'] / data['height(cm)']\n",
    "\n",
    "    data['hearing'] = np.nan\n",
    "    data.loc[(data['hearing(left)'] == 1) & (data['hearing(right)'] == 1), 'hearing'] = 1\n",
    "    data.loc[((data['hearing(left)'] == 1) & (data['hearing(right)'] == 2)) | \n",
    "             ((data['hearing(left)'] == 2) & (data['hearing(right)'] == 1)), 'hearing'] = 2\n",
    "    data.loc[(data['hearing(left)'] == 2) & (data['hearing(right)'] == 2), 'hearing'] = 3\n",
    "    \n",
    "    data['eyesight'] = (data['eyesight(left)']+ data['eyesight(right)'])/2\n",
    "    data['AST/ALT_ratio'] = data['AST'] / data['ALT']\n"
   ]
  },
  {
   "cell_type": "code",
   "execution_count": 6,
   "metadata": {},
   "outputs": [],
   "source": [
    "adding_columns(train)"
   ]
  },
  {
   "cell_type": "code",
   "execution_count": 10,
   "metadata": {},
   "outputs": [],
   "source": [
    "X_train = train.drop(['smoking'], axis = 1)\n",
    "y_train = train['smoking']"
   ]
  },
  {
   "cell_type": "code",
   "execution_count": null,
   "metadata": {},
   "outputs": [],
   "source": [
    "def removing_columns(data):\n",
    "    data.drop(['hearing(left)', 'hearing(right)', 'eyesight(left)', 'eyesight(right)'], axis=1, inplace=True)"
   ]
  },
  {
   "cell_type": "code",
   "execution_count": 24,
   "metadata": {},
   "outputs": [
    {
     "data": {
      "text/plain": [
       "(106171, 23)"
      ]
     },
     "execution_count": 24,
     "metadata": {},
     "output_type": "execute_result"
    }
   ],
   "source": []
  }
 ],
 "metadata": {
  "kernelspec": {
   "display_name": "Python 3",
   "language": "python",
   "name": "python3"
  },
  "language_info": {
   "codemirror_mode": {
    "name": "ipython",
    "version": 3
   },
   "file_extension": ".py",
   "mimetype": "text/x-python",
   "name": "python",
   "nbconvert_exporter": "python",
   "pygments_lexer": "ipython3",
   "version": "3.12.1"
  }
 },
 "nbformat": 4,
 "nbformat_minor": 2
}
