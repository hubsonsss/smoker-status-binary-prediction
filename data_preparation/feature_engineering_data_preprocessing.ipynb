{
 "cells": [
  {
   "cell_type": "code",
   "execution_count": 38,
   "metadata": {},
   "outputs": [],
   "source": [
    "import pandas as pd\n",
    "import numpy as np\n",
    "import matplotlib.pyplot as plt\n",
    "import seaborn as sns\n",
    "from sklearn.preprocessing import MinMaxScaler\n",
    "import warnings\n",
    "%matplotlib inline\n"
   ]
  },
  {
   "cell_type": "code",
   "execution_count": 39,
   "metadata": {},
   "outputs": [],
   "source": [
    "train = pd.read_csv(\"../data/data_merged.csv\")\n",
    "test = pd.read_csv(\"../data/test.csv\")\n"
   ]
  },
  {
   "cell_type": "markdown",
   "metadata": {},
   "source": [
    "<h1>1.Handling outliers<h1\n"
   ]
  },
  {
   "cell_type": "code",
   "execution_count": 40,
   "metadata": {},
   "outputs": [],
   "source": [
    "# range for visual acuity is beetween [0.1, 2.0], bigger values are probably errors \n",
    "def handle_eyesight_outliers(data):\n",
    "    mask = (data['eyesight(left)'] > 2) | (data['eyesight(right)'] > 2)\n",
    "    data.loc[mask, 'eyesight(left)'] = data.loc[~mask, 'eyesight(left)'].median()\n",
    "    data.loc[mask, 'eyesight(right)'] = data.loc[~mask, 'eyesight(right)'].median()\n",
    "\n",
    "def handle_other_outliers(data):\n",
    "    cols = ['triglyceride','HDL','AST', 'ALT']\n",
    "    for column in cols:\n",
    "        upper_limit = data[column].quantile(0.99)\n",
    "        lower_limit = data[column].quantile(0.01)\n",
    "        data[column] = np.where(data[column] >= upper_limit,\n",
    "        upper_limit,\n",
    "        np.where(data[column] <= lower_limit,\n",
    "        lower_limit,\n",
    "        data[column]))\n",
    "\n",
    "    "
   ]
  },
  {
   "cell_type": "markdown",
   "metadata": {},
   "source": [
    "<h1>2. Log transformation<h1>"
   ]
  },
  {
   "cell_type": "code",
   "execution_count": 41,
   "metadata": {},
   "outputs": [],
   "source": [
    "def log_transform_columns(data):\n",
    "    cols = ['systolic', 'relaxation', 'fasting blood sugar', 'Cholesterol', 'triglyceride', 'HDL', 'LDL', 'serum creatinine', 'AST','ALT','Gtp']\n",
    "    for column in cols:\n",
    "        data[column] = np.log(data[column] + 1)\n"
   ]
  },
  {
   "cell_type": "markdown",
   "metadata": {},
   "source": [
    "<h1>3. Creating new columns<h1>\n"
   ]
  },
  {
   "cell_type": "code",
   "execution_count": 42,
   "metadata": {},
   "outputs": [],
   "source": [
    "def add_columns(data):\n",
    "    data['BMI'] = data['weight(kg)'] / (data['height(cm)']/100)** 2\n",
    "    data['hearing'] = np.nan\n",
    "    data.loc[(data['hearing(left)'] == 1) & (data['hearing(right)'] == 1), 'hearing'] = 1\n",
    "    data.loc[((data['hearing(left)'] == 1) & (data['hearing(right)'] == 2)) | \n",
    "             ((data['hearing(left)'] == 2) & (data['hearing(right)'] == 1)), 'hearing'] = 2\n",
    "    data.loc[(data['hearing(left)'] == 2) & (data['hearing(right)'] == 2), 'hearing'] = 3\n",
    "    \n",
    "    data['eyesight'] = (data['eyesight(left)']+ data['eyesight(right)'])/2\n",
    "    data['AST/ALT_ratio'] = data['AST'] / data['ALT']\n"
   ]
  },
  {
   "cell_type": "code",
   "execution_count": 43,
   "metadata": {},
   "outputs": [],
   "source": [
    "handle_eyesight_outliers(train)\n",
    "handle_other_outliers(train)\n",
    "log_transform_columns(train)\n",
    "add_columns(train)"
   ]
  },
  {
   "cell_type": "markdown",
   "metadata": {},
   "source": [
    "<h1>4. Removing unnecessary columns<h1>"
   ]
  },
  {
   "cell_type": "code",
   "execution_count": 44,
   "metadata": {},
   "outputs": [],
   "source": [
    "def remove_columns(data):\n",
    "    data.drop(['hearing(left)', 'hearing(right)', 'eyesight(left)', 'eyesight(right)', 'Cholesterol'], axis=1, inplace=True)"
   ]
  },
  {
   "cell_type": "code",
   "execution_count": 45,
   "metadata": {},
   "outputs": [],
   "source": [
    "remove_columns(train)"
   ]
  },
  {
   "cell_type": "code",
   "execution_count": 46,
   "metadata": {},
   "outputs": [],
   "source": [
    "X_train = train.drop(['smoking'], axis = 1)\n",
    "y_train = train['smoking']"
   ]
  },
  {
   "cell_type": "markdown",
   "metadata": {},
   "source": [
    "<h1>5. Normalization using MinMaxScaler<h1>"
   ]
  },
  {
   "cell_type": "code",
   "execution_count": 51,
   "metadata": {},
   "outputs": [],
   "source": [
    "scaler = MinMaxScaler()\n",
    "X_train_scaled = scaler.fit_transform(X_train)\n",
    "train_scaled = pd.concat([pd.DataFrame(X_train_scaled, columns=X_train.columns), y_train.reset_index(drop=True)], axis=1)\n"
   ]
  },
  {
   "cell_type": "code",
   "execution_count": 52,
   "metadata": {},
   "outputs": [],
   "source": [
    "train_scaled.to_csv(\"train_data_preprocessed.csv\", index = False, encoding = 'utf-8')"
   ]
  }
 ],
 "metadata": {
  "kernelspec": {
   "display_name": "Python 3",
   "language": "python",
   "name": "python3"
  },
  "language_info": {
   "codemirror_mode": {
    "name": "ipython",
    "version": 3
   },
   "file_extension": ".py",
   "mimetype": "text/x-python",
   "name": "python",
   "nbconvert_exporter": "python",
   "pygments_lexer": "ipython3",
   "version": "3.12.1"
  }
 },
 "nbformat": 4,
 "nbformat_minor": 2
}
