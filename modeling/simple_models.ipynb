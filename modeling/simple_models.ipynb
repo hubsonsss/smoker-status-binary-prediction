{
 "cells": [
  {
   "cell_type": "code",
<<<<<<< HEAD
   "execution_count": 2,
=======
   "execution_count": 45,
>>>>>>> 592000bd598a06090cd59ff3420c6d9ce335d2f1
   "metadata": {},
   "outputs": [
    {
     "name": "stderr",
     "output_type": "stream",
     "text": [
      "C:\\Users\\marty\\AppData\\Local\\Temp\\ipykernel_7596\\2853156303.py:12: DeprecationWarning: \n",
      "Pyarrow will become a required dependency of pandas in the next major release of pandas (pandas 3.0),\n",
      "(to allow more performant data types, such as the Arrow string type, and better interoperability with other libraries)\n",
      "but was not found to be installed on your system.\n",
      "If this would cause problems for you,\n",
      "please provide us feedback at https://github.com/pandas-dev/pandas/issues/54466\n",
      "        \n",
      "  import pandas as pd\n"
     ]
    }
   ],
   "source": [
    "from sklearn.tree import DecisionTreeClassifier\n",
    "from sklearn.svm import SVC\n",
    "from sklearn.feature_selection import RFE\n",
    "from sklearn.linear_model import LassoCV\n",
    "from sklearn.neighbors import KNeighborsClassifier\n",
    "from sklearn.naive_bayes import GaussianNB\n",
    "from sklearn.metrics import accuracy_score, classification_report, confusion_matrix, recall_score, roc_auc_score, roc_curve, auc\n",
    "from sklearn.model_selection import train_test_split, GridSearchCV, RandomizedSearchCV\n",
    "from sklearn.pipeline import Pipeline\n",
    "from sklearn.svm import LinearSVC\n",
    "from lightgbm import LGBMClassifier\n",
    "from xgboost import XGBClassifier\n",
    "from sklearn.linear_model import LogisticRegression, RidgeClassifier\n",
    "from sklearn.ensemble import RandomForestClassifier, AdaBoostClassifier\n",
    "from sklearn.metrics import roc_auc_score, classification_report, roc_curve\n",
    "from skopt.space import Real, Categorical, Integer\n",
    "from skopt import BayesSearchCV\n",
    "from sklearn.model_selection import StratifiedKFold\n",
    "from sklearn.model_selection import GridSearchCV\n",
    "\n",
    "import pandas as pd\n",
    "import matplotlib.pyplot as plt\n",
    "import seaborn as sns\n",
    "import numpy as np"
   ]
  },
  {
   "cell_type": "code",
<<<<<<< HEAD
   "execution_count": 3,
=======
   "execution_count": 2,
>>>>>>> 592000bd598a06090cd59ff3420c6d9ce335d2f1
   "metadata": {},
   "outputs": [],
   "source": [
    "data = pd.read_csv(\"../data/train_data_preprocessed.csv\")"
   ]
  },
  {
   "cell_type": "code",
<<<<<<< HEAD
   "execution_count": 4,
=======
   "execution_count": 3,
>>>>>>> 592000bd598a06090cd59ff3420c6d9ce335d2f1
   "metadata": {},
   "outputs": [],
   "source": [
    "X = data.drop(['smoking'], axis = 1)\n",
    "y = data['smoking']"
   ]
  },
  {
   "cell_type": "code",
<<<<<<< HEAD
   "execution_count": 5,
=======
   "execution_count": 4,
>>>>>>> 592000bd598a06090cd59ff3420c6d9ce335d2f1
   "metadata": {},
   "outputs": [],
   "source": [
    "X_train, X_test, y_train, y_test = train_test_split(X, y, test_size=0.2, random_state=42)"
   ]
  },
  {
   "cell_type": "code",
   "execution_count": 6,
   "metadata": {},
   "outputs": [
    {
     "name": "stdout",
     "output_type": "stream",
     "text": [
      "Decision Tree Model\n",
      "Accuracy: 0.701725181598063\n",
      "Classification Report:\n",
      "              precision    recall  f1-score   support\n",
      "\n",
      "           0       0.74      0.75      0.74     22677\n",
      "           1       0.65      0.64      0.65     16971\n",
      "\n",
      "    accuracy                           0.70     39648\n",
      "   macro avg       0.70      0.69      0.69     39648\n",
      "weighted avg       0.70      0.70      0.70     39648\n",
      "\n",
<<<<<<< HEAD
      "ROC AUC Score: 0.6941559259161992\n",
      "--------------------------------------------------\n",
      "SVM Model\n",
      "Accuracy: 0.7663438256658596\n",
      "Classification Report:\n",
      "              precision    recall  f1-score   support\n",
      "\n",
      "           0       0.84      0.73      0.78     22677\n",
      "           1       0.69      0.81      0.75     16971\n",
      "\n",
      "    accuracy                           0.77     39648\n",
      "   macro avg       0.77      0.77      0.77     39648\n",
      "weighted avg       0.78      0.77      0.77     39648\n",
      "\n",
      "ROC AUC Score: 0.8459102498134039\n",
      "--------------------------------------------------\n",
      "Logistic Regression Model\n",
      "Accuracy: 0.7486884584342212\n",
      "Classification Report:\n",
      "              precision    recall  f1-score   support\n",
      "\n",
      "           0       0.79      0.77      0.78     22677\n",
      "           1       0.70      0.72      0.71     16971\n",
      "\n",
      "    accuracy                           0.75     39648\n",
      "   macro avg       0.74      0.74      0.74     39648\n",
      "weighted avg       0.75      0.75      0.75     39648\n",
      "\n",
      "ROC AUC Score: 0.8344443063911477\n",
      "--------------------------------------------------\n",
      "K-Neighbors Model\n",
      "Accuracy: 0.7300998789346247\n",
      "Classification Report:\n",
      "              precision    recall  f1-score   support\n",
      "\n",
      "           0       0.77      0.75      0.76     22677\n",
      "           1       0.68      0.70      0.69     16971\n",
      "\n",
      "    accuracy                           0.73     39648\n",
      "   macro avg       0.72      0.73      0.73     39648\n",
      "weighted avg       0.73      0.73      0.73     39648\n",
      "\n",
      "ROC AUC Score: 0.7988186280757058\n",
      "--------------------------------------------------\n",
      "Naive Bayes Model\n",
      "Accuracy: 0.7192796610169492\n",
      "Classification Report:\n",
      "              precision    recall  f1-score   support\n",
      "\n",
      "           0       0.80      0.68      0.74     22677\n",
      "           1       0.64      0.77      0.70     16971\n",
      "\n",
      "    accuracy                           0.72     39648\n",
      "   macro avg       0.72      0.73      0.72     39648\n",
      "weighted avg       0.73      0.72      0.72     39648\n",
      "\n",
      "ROC AUC Score: 0.7905171504821497\n",
=======
>>>>>>> 592000bd598a06090cd59ff3420c6d9ce335d2f1
      "--------------------------------------------------\n"
     ]
    }
   ],
   "source": [
    "models = {\n",
    "    \"Decision Tree\": DecisionTreeClassifier(random_state=42),\n",
    "    \"SVM\": SVC(random_state=42),\n",
    "    \"Logistic Regression\": LogisticRegression(random_state=42, max_iter=1000),\n",
    "    \"K-Neighbors\": KNeighborsClassifier(),\n",
    "    \"Naive Bayes\": GaussianNB()\n",
    "}\n",
    "\n",
    "\n",
    "for name, model in models.items():\n",
    "    model.fit(X_train, y_train)\n",
    "    y_pred = model.predict(X_test)\n",
    "    if hasattr(model, \"predict_proba\"):\n",
    "        y_pred_proba = model.predict_proba(X_test)[:, 1]\n",
    "    else:\n",
    "        y_pred_proba = model.decision_function(X_test)\n",
    "\n",
    "    accuracy = accuracy_score(y_test, y_pred)\n",
    "    report = classification_report(y_test, y_pred)\n",
    "    roc_auc = roc_auc_score(y_test, y_pred_proba)\n",
    "\n",
    "    print(f\"{name} Model\")\n",
    "    print(f\"Accuracy: {accuracy}\")\n",
    "    print(\"Classification Report:\")\n",
    "    print(report)\n",
    "    print(f\"ROC AUC Score: {roc_auc}\")\n",
    "    print(\"-\" * 50)"
   ]
  },
  {
   "cell_type": "code",
   "execution_count": 7,
   "metadata": {},
   "outputs": [
    {
     "name": "stdout",
     "output_type": "stream",
     "text": [
      "Random Forest Model\n",
      "Accuracy: 0.7806698950766747\n",
      "Classification Report:\n",
      "              precision    recall  f1-score   support\n",
      "\n",
      "           0       0.83      0.78      0.80     22677\n",
      "           1       0.72      0.79      0.75     16971\n",
      "\n",
      "    accuracy                           0.78     39648\n",
      "   macro avg       0.78      0.78      0.78     39648\n",
      "weighted avg       0.78      0.78      0.78     39648\n",
      "\n",
      "ROC AUC Score: 0.8635674158850007\n",
      "--------------------------------------------------\n"
     ]
    }
   ],
   "source": [
    "rf = RandomForestClassifier(random_state=42)\n",
    "rf.fit(X_train, y_train)\n",
    "\n",
    "y_pred_rf = rf.predict(X_test)\n",
    "y_pred_proba_rf = rf.predict_proba(X_test)[:, 1]\n",
    "accuracy_rf = accuracy_score(y_test, y_pred_rf)\n",
    "report_rf = classification_report(y_test, y_pred_rf)\n",
    "roc_auc = roc_auc_score(y_test, y_pred_proba_rf)\n",
    "\n",
    "print(\"Random Forest Model\")\n",
    "print(f\"Accuracy: {accuracy_rf}\")\n",
    "print(\"Classification Report:\")\n",
    "print(report_rf)\n",
    "print(f\"ROC AUC Score: {roc_auc}\")\n",
    "print(\"-\" * 50)"
   ]
  },
  {
   "cell_type": "code",
   "execution_count": 7,
   "metadata": {},
   "outputs": [],
   "source": [
    "param_grid = {\n",
    "    'n_estimators': [100, 300],\n",
    "    'max_features': ['auto', 'sqrt'],\n",
    "    'max_depth': [10, 30, None],\n",
    "    'min_samples_split': [2, 5],\n",
    "    'min_samples_leaf': [1, 2],\n",
    "    'bootstrap': [True, False]\n",
    "}\n",
    "\n",
    "grid_search = GridSearchCV(estimator=RandomForestClassifier(random_state=42), param_grid=param_grid, cv=3, n_jobs=-1, verbose=2)"
   ]
  },
  {
   "cell_type": "code",
   "execution_count": 8,
   "metadata": {},
   "outputs": [
    {
     "name": "stdout",
     "output_type": "stream",
     "text": [
      "Fitting 3 folds for each of 96 candidates, totalling 288 fits\n"
     ]
    },
    {
     "name": "stderr",
     "output_type": "stream",
     "text": [
      "C:\\Users\\marty\\AppData\\Roaming\\Python\\Python312\\site-packages\\sklearn\\model_selection\\_validation.py:547: FitFailedWarning: \n",
      "144 fits failed out of a total of 288.\n",
      "The score on these train-test partitions for these parameters will be set to nan.\n",
      "If these failures are not expected, you can try to debug them by setting error_score='raise'.\n",
      "\n",
      "Below are more details about the failures:\n",
      "--------------------------------------------------------------------------------\n",
      "4 fits failed with the following error:\n",
      "Traceback (most recent call last):\n",
      "  File \"C:\\Users\\marty\\AppData\\Roaming\\Python\\Python312\\site-packages\\sklearn\\model_selection\\_validation.py\", line 895, in _fit_and_score\n",
      "    estimator.fit(X_train, y_train, **fit_params)\n",
      "  File \"C:\\Users\\marty\\AppData\\Roaming\\Python\\Python312\\site-packages\\sklearn\\base.py\", line 1467, in wrapper\n",
      "    estimator._validate_params()\n",
      "  File \"C:\\Users\\marty\\AppData\\Roaming\\Python\\Python312\\site-packages\\sklearn\\base.py\", line 666, in _validate_params\n",
      "    validate_parameter_constraints(\n",
      "  File \"C:\\Users\\marty\\AppData\\Roaming\\Python\\Python312\\site-packages\\sklearn\\utils\\_param_validation.py\", line 95, in validate_parameter_constraints\n",
      "    raise InvalidParameterError(\n",
      "sklearn.utils._param_validation.InvalidParameterError: The 'max_features' parameter of RandomForestClassifier must be an int in the range [1, inf), a float in the range (0.0, 1.0], a str among {'log2', 'sqrt'} or None. Got 'auto' instead.\n",
      "\n",
      "--------------------------------------------------------------------------------\n",
      "140 fits failed with the following error:\n",
      "Traceback (most recent call last):\n",
      "  File \"C:\\Users\\marty\\AppData\\Roaming\\Python\\Python312\\site-packages\\sklearn\\model_selection\\_validation.py\", line 895, in _fit_and_score\n",
      "    estimator.fit(X_train, y_train, **fit_params)\n",
      "  File \"C:\\Users\\marty\\AppData\\Roaming\\Python\\Python312\\site-packages\\sklearn\\base.py\", line 1467, in wrapper\n",
      "    estimator._validate_params()\n",
      "  File \"C:\\Users\\marty\\AppData\\Roaming\\Python\\Python312\\site-packages\\sklearn\\base.py\", line 666, in _validate_params\n",
      "    validate_parameter_constraints(\n",
      "  File \"C:\\Users\\marty\\AppData\\Roaming\\Python\\Python312\\site-packages\\sklearn\\utils\\_param_validation.py\", line 95, in validate_parameter_constraints\n",
      "    raise InvalidParameterError(\n",
      "sklearn.utils._param_validation.InvalidParameterError: The 'max_features' parameter of RandomForestClassifier must be an int in the range [1, inf), a float in the range (0.0, 1.0], a str among {'sqrt', 'log2'} or None. Got 'auto' instead.\n",
      "\n",
      "  warnings.warn(some_fits_failed_message, FitFailedWarning)\n",
      "C:\\Users\\marty\\AppData\\Roaming\\Python\\Python312\\site-packages\\sklearn\\model_selection\\_search.py:1051: UserWarning: One or more of the test scores are non-finite: [       nan        nan        nan        nan        nan        nan\n",
      "        nan        nan 0.76751665 0.7678067  0.76766798 0.76764906\n",
      " 0.76698699 0.76793911 0.76733379 0.7674599         nan        nan\n",
      "        nan        nan        nan        nan        nan        nan\n",
      " 0.77793331 0.78051226 0.77828012 0.7804492  0.7793016  0.78065098\n",
      " 0.77850711 0.78002043        nan        nan        nan        nan\n",
      "        nan        nan        nan        nan 0.77810987 0.78028526\n",
      " 0.77874672 0.78068881 0.77923224 0.78058792 0.77843145 0.78047442\n",
      "        nan        nan        nan        nan        nan        nan\n",
      "        nan        nan 0.76751665 0.7679202  0.7676932  0.76837419\n",
      " 0.76759231 0.76788867 0.7679202  0.76771212        nan        nan\n",
      "        nan        nan        nan        nan        nan        nan\n",
      " 0.77808464 0.78046181 0.77870889 0.78015285 0.77821706 0.7804429\n",
      " 0.7795286  0.7806699         nan        nan        nan        nan\n",
      "        nan        nan        nan        nan 0.77777568 0.77960427\n",
      " 0.77903047 0.78014023 0.77853864 0.78016546 0.7795286  0.78126892]\n",
      "  warnings.warn(\n"
     ]
    },
    {
     "name": "stdout",
     "output_type": "stream",
     "text": [
      "Best parameters found by GridSearchCV:\n",
      "{'bootstrap': False, 'max_depth': None, 'max_features': 'sqrt', 'min_samples_leaf': 2, 'min_samples_split': 5, 'n_estimators': 300}\n",
      "Accuracy with Grid Search: 0.7823345439870864\n",
      "Classification Report with Grid Search:\n",
      "              precision    recall  f1-score   support\n",
      "\n",
      "           0       0.84      0.77      0.80     22677\n",
      "           1       0.72      0.80      0.76     16971\n",
      "\n",
      "    accuracy                           0.78     39648\n",
      "   macro avg       0.78      0.78      0.78     39648\n",
      "weighted avg       0.79      0.78      0.78     39648\n",
      "\n"
     ]
    }
   ],
   "source": [
    "grid_search.fit(X_train, y_train)\n",
    "best_params = grid_search.best_params_\n",
    "print(\"Best parameters found by GridSearchCV:\")\n",
    "print(best_params)\n",
    "\n",
    "best_grid_model = grid_search.best_estimator_\n",
    "y_pred_grid = best_grid_model.predict(X_test)\n",
    "\n",
    "accuracy_grid = accuracy_score(y_test, y_pred_grid)\n",
    "report_grid = classification_report(y_test, y_pred_grid)\n",
    "\n",
    "print(f\"Accuracy with Grid Search: {accuracy_grid}\")\n",
    "print(\"Classification Report with Grid Search:\")\n",
    "print(report_grid)"
   ]
  },
  {
   "cell_type": "code",
   "execution_count": 9,
   "metadata": {},
   "outputs": [
    {
     "name": "stdout",
     "output_type": "stream",
     "text": [
      "Random Forest Model\n",
      "Accuracy: 0.7823\n",
      "Classification Report:\n",
      "              precision    recall  f1-score   support\n",
      "\n",
      "           0       0.84      0.77      0.80     22677\n",
      "           1       0.72      0.80      0.76     16971\n",
      "\n",
      "    accuracy                           0.78     39648\n",
      "   macro avg       0.78      0.78      0.78     39648\n",
      "weighted avg       0.79      0.78      0.78     39648\n",
      "\n",
      "ROC AUC: 0.8671\n",
      "--------------------------------------------------\n"
     ]
    }
   ],
   "source": [
    "rf = RandomForestClassifier(random_state=42, bootstrap=False, max_depth=None, max_features='sqrt', min_samples_leaf=2, min_samples_split=5, n_estimators=300)\n",
    "rf.fit(X_train, y_train)\n",
    "\n",
    "y_pred_rf = rf.predict(X_test)\n",
    "y_pred_proba_rf = rf.predict_proba(X_test)[:, 1]\n",
    "\n",
    "\n",
    "accuracy_rf = accuracy_score(y_test, y_pred_rf)\n",
    "report_rf = classification_report(y_test, y_pred_rf)\n",
    "roc_auc_rf = roc_auc_score(y_test, y_pred_proba_rf)\n",
    "\n",
    "print(\"Random Forest Model\")\n",
    "print(f\"Accuracy: {accuracy_rf:.4f}\")\n",
    "print(\"Classification Report:\")\n",
    "print(report_rf)\n",
    "print(f\"ROC AUC: {roc_auc_rf:.4f}\")\n",
    "print(\"-\" * 50)\n",
    "\n",
    "fpr, tpr, _ = roc_curve(y_test, y_pred_proba_rf)\n",
    "roc_auc = auc(fpr, tpr)\n",
    "\n"
   ]
  },
  {
   "cell_type": "code",
   "execution_count": 10,
   "metadata": {},
   "outputs": [
    {
     "data": {
      "image/png": "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",
      "text/plain": [
       "<Figure size 640x480 with 1 Axes>"
      ]
     },
     "metadata": {},
     "output_type": "display_data"
    }
   ],
   "source": [
    "plt.figure()\n",
    "plt.plot(fpr, tpr, color='darkorange', lw=2, label=f'ROC curve (area = {roc_auc:.4f})')\n",
    "plt.plot([0, 1], [0, 1], color='navy', lw=2, linestyle='--')\n",
    "plt.xlim([0.0, 1.0])\n",
    "plt.ylim([0.0, 1.05])\n",
    "plt.xlabel('False Positive Rate')\n",
    "plt.ylabel('True Positive Rate')\n",
    "plt.title('Receiver Operating Characteristic (ROC)')\n",
    "plt.legend(loc=\"lower right\")\n",
    "plt.show()"
   ]
  },
  {
   "cell_type": "code",
   "execution_count": 29,
   "metadata": {},
   "outputs": [
    {
     "data": {
      "image/png": "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",
      "text/plain": [
       "<Figure size 800x600 with 2 Axes>"
      ]
     },
     "metadata": {},
     "output_type": "display_data"
    }
   ],
   "source": [
    "conf_matrix = confusion_matrix(y_test, y_pred_rf)\n",
    "\n",
    "plt.figure(figsize=(8, 6))\n",
    "sns.heatmap(conf_matrix, annot=True, fmt='d', cmap='Blues', xticklabels=rf.classes_, yticklabels=rf.classes_)\n",
    "plt.xlabel('Predicted')\n",
    "plt.ylabel('Actual')\n",
    "plt.title('Confusion Matrix')\n",
    "plt.show()"
   ]
  },
  {
   "cell_type": "code",
   "execution_count": 34,
   "metadata": {},
   "outputs": [
    {
     "name": "stdout",
     "output_type": "stream",
     "text": [
      "Random Forest with Selected Features\n",
      "Accuracy: 0.7809725585149314\n",
      "Classification Report:\n",
      "              precision    recall  f1-score   support\n",
      "\n",
      "           0       0.83      0.77      0.80     22677\n",
      "           1       0.72      0.79      0.76     16971\n",
      "\n",
      "    accuracy                           0.78     39648\n",
      "   macro avg       0.78      0.78      0.78     39648\n",
      "weighted avg       0.79      0.78      0.78     39648\n",
      "\n"
     ]
    }
   ],
   "source": [
    "\n",
    "lasso = LassoCV(cv=5, random_state=42)\n",
    "lasso.fit(X_train, y_train)\n",
    "\n",
    "selected_features = X.columns[(lasso.coef_ != 0)]\n",
    "\n",
    "rf = RandomForestClassifier(random_state=42, bootstrap=False, max_depth=None, max_features='sqrt', min_samples_leaf=2, min_samples_split=5, n_estimators=300)\n",
    "rf.fit(X_train[selected_features], y_train)\n",
    "\n",
    "y_pred = rf.predict(X_test[selected_features])\n",
    "accuracy = accuracy_score(y_test, y_pred)\n",
    "report = classification_report(y_test, y_pred)\n",
    "\n",
    "print(\"Random Forest with Selected Features\")\n",
    "print(f\"Accuracy: {accuracy}\")\n",
    "print(\"Classification Report:\")\n",
    "print(report)"
   ]
  },
  {
   "cell_type": "markdown",
   "metadata": {},
   "source": [
    "Lasso doesn't work well."
   ]
  },
  {
   "cell_type": "code",
   "execution_count": null,
   "metadata": {},
   "outputs": [],
<<<<<<< HEAD
=======
   "source": [
    "rf = RandomForestClassifier(random_state=42, bootstrap=False, max_depth=None, max_features='sqrt', min_samples_leaf=2, min_samples_split=5, n_estimators=300)\n",
    "\n",
    "\n",
    "for n_features in range(11, 22):\n",
    "    rfe = RFE(estimator=rf, n_features_to_select=n_features)\n",
    "    rfe.fit(X_train, y_train)\n",
    "    \n",
    "    selected_features = X.columns[rfe.support_]\n",
    "    \n",
    "    rf.fit(X_train[selected_features], y_train)\n",
    "    \n",
    "    y_pred = rf.predict(X_test[selected_features])\n",
    "    recall = recall_score(y_test, y_pred, pos_label=1)\n",
    "    \n",
    "    results[n_features] = {\n",
    "        'features': selected_features,\n",
    "        'recall': recall\n",
    "    }\n",
    "\n",
    "for n_features, result in results.items():\n",
    "    print(f\"Number of features: {n_features}\")\n",
    "    print(f\"Selected features: {list(result['features'])}\")\n",
    "    print(f\"Recall: {result['recall']:.2f}\")\n",
    "    print(\"-\" * 50)\n",
    "\n",
    "optimal_n_features = max(results, key=lambda x: results[x]['recall'])\n",
    "optimal_features = results[optimal_n_features]['features']\n",
    "optimal_recall = results[optimal_n_features]['recall']\n",
    "\n",
    "print(f\"Optimal number of features: {optimal_n_features}\")\n",
    "print(f\"Selected features: {list(optimal_features)}\")\n",
    "print(f\"Recall: {optimal_recall:.2f}\")"
   ]
  },
  {
   "cell_type": "code",
   "execution_count": 5,
   "metadata": {},
   "outputs": [],
   "source": [
    "def model_classification_reports(models, X_train, y_train, X_test, y_test):\n",
    "    reports = {}\n",
    "    for model_name, model in models.items():\n",
    "        model.fit(X_train, y_train)\n",
    "        if hasattr(model, \"predict_proba\"):\n",
    "            y_pred_proba = model.predict_proba(X_test)[:, 1]\n",
    "            roc_auc = roc_auc_score(y_test, y_pred_proba)\n",
    "        elif hasattr(model, \"decision_function\"):\n",
    "            y_score = model.decision_function(X_test)\n",
    "            roc_auc = roc_auc_score(y_test, y_score)\n",
    "\n",
    "        y_pred = model.predict(X_test)\n",
    "        report = classification_report(y_test, y_pred, output_dict=True)\n",
    "        report['roc_auc'] = roc_auc\n",
    "        reports[model_name] = report\n",
    "    return reports"
   ]
  },
  {
   "cell_type": "code",
   "execution_count": 6,
   "metadata": {},
   "outputs": [],
   "source": [
    "def print_classification_reports(reports):\n",
    "    for model_name, report in reports.items():\n",
    "        print(model_name.upper())\n",
    "        print('==================================')\n",
    "\n",
    "        print('Model Performance for Test Set:')\n",
    "        print('- Accuracy: {:.4f}'.format(report['accuracy']))\n",
    "        print('- F1 Score: {:.4f}'.format(report['weighted avg']['f1-score']))\n",
    "        print('- Precision: {:.4f}'.format(report['weighted avg']['precision']))\n",
    "        print('- Recall: {:.4f}'.format(report['weighted avg']['recall']))\n",
    "        print('- ROC AUC Score: {:.4f}'.format(report['roc_auc']))\n",
    "\n",
    "        print('==================================')\n",
    "        print('\\n')"
   ]
  },
  {
   "cell_type": "code",
   "execution_count": 7,
   "metadata": {},
   "outputs": [],
   "source": [
    "def roc_curve_plot(models, X_test, y_test):\n",
    "    plt.figure(figsize=(8, 8))\n",
    "    plt.title(\"ROC Curve for Different Models\")\n",
    "    for model_name, model in models.items():\n",
    "        if hasattr(model, \"predict_proba\"):\n",
    "            y_score = model.predict_proba(X_test)[:, 1]\n",
    "        elif hasattr(model, \"decision_function\"):\n",
    "            y_score = model.decision_function(X_test)\n",
    "\n",
    "        fpr, tpr, _ = roc_curve(y_test, y_score)\n",
    "        auc = round(roc_auc_score(y_test, y_score), 4)\n",
    "        plt.plot(fpr, tpr, label=f\"{model_name}, AUC={auc}\")\n",
    "    plt.legend()"
   ]
  },
  {
   "cell_type": "code",
   "execution_count": 14,
   "metadata": {},
   "outputs": [],
   "source": [
    "models_to_test = {\n",
    "    'LinearSVC': Pipeline(steps=[('classifier', LinearSVC())]),\n",
    "    'LogisticRegression': Pipeline(steps=[('classifier', LogisticRegression())]),\n",
    "    'LGBMClassifier': Pipeline(steps=[('classifier', LGBMClassifier())]),\n",
    "    'XGBClassifier': Pipeline(steps=[('classifier', XGBClassifier())]),\n",
    "    'RandomForestClassifier': Pipeline(steps=[('classifier', RandomForestClassifier(n_estimators=10, random_state=42, n_jobs=-1))]),\n",
    "    'AdaBoostClassifier':  Pipeline(steps=[('classifier', AdaBoostClassifier(n_estimators=10))]),\n",
    "    'RidgeClassifier':  Pipeline(steps=[('classifier', RidgeClassifier())])\n",
    "}"
   ]
  },
  {
   "cell_type": "code",
   "execution_count": 17,
   "metadata": {},
   "outputs": [
    {
     "name": "stderr",
     "output_type": "stream",
     "text": [
      "C:\\Users\\soboc\\anaconda3\\lib\\site-packages\\sklearn\\svm\\_classes.py:31: FutureWarning: The default value of `dual` will change from `True` to `'auto'` in 1.5. Set the value of `dual` explicitly to suppress the warning.\n",
      "  warnings.warn(\n"
     ]
    },
    {
     "name": "stdout",
     "output_type": "stream",
     "text": [
      "[LightGBM] [Warning] Found whitespace in feature_names, replace with underlines\n",
      "[LightGBM] [Info] Number of positive: 67000, number of negative: 91592\n",
      "[LightGBM] [Info] Auto-choosing row-wise multi-threading, the overhead of testing was 0.007934 seconds.\n",
      "You can set `force_row_wise=true` to remove the overhead.\n",
      "And if memory is not enough, you can set `force_col_wise=true`.\n",
      "[LightGBM] [Info] Total Bins 2246\n",
      "[LightGBM] [Info] Number of data points in the train set: 158592, number of used features: 21\n",
      "[LightGBM] [Info] [binary:BoostFromScore]: pavg=0.422468 -> initscore=-0.312651\n",
      "[LightGBM] [Info] Start training from score -0.312651\n"
     ]
    },
    {
     "name": "stderr",
     "output_type": "stream",
     "text": [
      "C:\\Users\\soboc\\anaconda3\\lib\\site-packages\\sklearn\\ensemble\\_weight_boosting.py:519: FutureWarning: The SAMME.R algorithm (the default) is deprecated and will be removed in 1.6. Use the SAMME algorithm to circumvent this warning.\n",
      "  warnings.warn(\n"
     ]
    },
    {
     "name": "stdout",
     "output_type": "stream",
     "text": [
      "LINEARSVC\n",
      "==================================\n",
      "Model Performance for Test Set:\n",
      "- Accuracy: 0.7501\n",
      "- F1 Score: 0.7509\n",
      "- Precision: 0.7525\n",
      "- Recall: 0.7501\n",
      "- ROC AUC Score: 0.8349\n",
      "==================================\n",
      "\n",
      "\n",
      "LOGISTICREGRESSION\n",
      "==================================\n",
      "Model Performance for Test Set:\n",
      "- Accuracy: 0.7487\n",
      "- F1 Score: 0.7490\n",
      "- Precision: 0.7496\n",
      "- Recall: 0.7487\n",
      "- ROC AUC Score: 0.8344\n",
      "==================================\n",
      "\n",
      "\n",
      "LGBMCLASSIFIER\n",
      "==================================\n",
      "Model Performance for Test Set:\n",
      "- Accuracy: 0.7744\n",
      "- F1 Score: 0.7754\n",
      "- Precision: 0.7797\n",
      "- Recall: 0.7744\n",
      "- ROC AUC Score: 0.8587\n",
      "==================================\n",
      "\n",
      "\n",
      "XGBCLASSIFIER\n",
      "==================================\n",
      "Model Performance for Test Set:\n",
      "- Accuracy: 0.7773\n",
      "- F1 Score: 0.7782\n",
      "- Precision: 0.7814\n",
      "- Recall: 0.7773\n",
      "- ROC AUC Score: 0.8608\n",
      "==================================\n",
      "\n",
      "\n",
      "RANDOMFORESTCLASSIFIER\n",
      "==================================\n",
      "Model Performance for Test Set:\n",
      "- Accuracy: 0.7507\n",
      "- F1 Score: 0.7496\n",
      "- Precision: 0.7495\n",
      "- Recall: 0.7507\n",
      "- ROC AUC Score: 0.8364\n",
      "==================================\n",
      "\n",
      "\n",
      "ADABOOSTCLASSIFIER\n",
      "==================================\n",
      "Model Performance for Test Set:\n",
      "- Accuracy: 0.7382\n",
      "- F1 Score: 0.7383\n",
      "- Precision: 0.7385\n",
      "- Recall: 0.7382\n",
      "- ROC AUC Score: 0.8231\n",
      "==================================\n",
      "\n",
      "\n",
      "RIDGECLASSIFIER\n",
      "==================================\n",
      "Model Performance for Test Set:\n",
      "- Accuracy: 0.7508\n",
      "- F1 Score: 0.7517\n",
      "- Precision: 0.7539\n",
      "- Recall: 0.7508\n",
      "- ROC AUC Score: 0.8348\n",
      "==================================\n",
      "\n",
      "\n"
     ]
    }
   ],
   "source": [
    "reports = model_classification_reports(models_to_test, X_train, y_train, X_test, y_test)\n",
    "print_classification_reports(reports)"
   ]
  },
  {
   "cell_type": "code",
   "execution_count": 21,
   "metadata": {},
   "outputs": [
    {
     "data": {
      "image/png": "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\n",
      "text/plain": [
       "<Figure size 800x800 with 1 Axes>"
      ]
     },
     "metadata": {},
     "output_type": "display_data"
    }
   ],
   "source": [
    "roc_curve_plot(models_to_test, X_test, y_test)"
   ]
  },
  {
   "cell_type": "markdown",
   "metadata": {},
   "source": [
    "# Bayes optimization for Logistic Regression"
   ]
  },
  {
   "cell_type": "code",
   "execution_count": 26,
   "metadata": {},
   "outputs": [
    {
     "name": "stdout",
     "output_type": "stream",
     "text": [
      "Best parameters found:  OrderedDict([('C', 2.534114213879879), ('solver', 'newton-cg')])\n",
      "Best score found:  0.8374144456725752\n"
     ]
    }
   ],
   "source": [
    "param_space = {\n",
    "    'C': Real(1e-5, 100.0, prior='log-uniform'),\n",
    "    'solver': Categorical(['newton-cg', 'lbfgs', 'liblinear', 'sag', 'saga'])\n",
    "}\n",
    "\n",
    "lr_model = LogisticRegression()\n",
    "\n",
    "opt = BayesSearchCV(lr_model,\n",
    "                     param_space,\n",
    "                     n_iter=20,\n",
    "                     cv=5,\n",
    "                     random_state=42,\n",
    "                     scoring='roc_auc',\n",
    "                     n_jobs=-1)\n",
    "opt.fit(X_train, y_train)\n",
    "\n",
    "print(\"Best parameters found: \", opt.best_params_)\n",
    "print(\"Best score found: \", opt.best_score_)"
   ]
  },
  {
   "cell_type": "code",
   "execution_count": 27,
   "metadata": {},
   "outputs": [
    {
     "name": "stdout",
     "output_type": "stream",
     "text": [
      "Test score:  0.83448435302037\n"
     ]
    }
   ],
   "source": [
    "test_score = opt.score(X_test, y_test)\n",
    "print(\"Test score: \", test_score)"
   ]
  },
  {
   "cell_type": "code",
   "execution_count": 28,
   "metadata": {},
   "outputs": [
    {
     "name": "stdout",
     "output_type": "stream",
     "text": [
      "Best ROC AUC: 0.83448435302037\n"
     ]
    }
   ],
   "source": [
    "best_lr_estimator = opt.best_estimator_\n",
    "y_pred_proba = best_lr_estimator.predict_proba(X_test)[:, 1]\n",
    "\n",
    "roc_auc = roc_auc_score(y_test, y_pred_proba)\n",
    "print(\"Best ROC AUC:\", roc_auc)"
   ]
  },
  {
   "cell_type": "code",
   "execution_count": 30,
   "metadata": {},
   "outputs": [
    {
     "name": "stdout",
     "output_type": "stream",
     "text": [
      "              precision    recall  f1-score   support\n",
      "\n",
      "           0       0.79      0.77      0.78     22677\n",
      "           1       0.70      0.72      0.71     16971\n",
      "\n",
      "    accuracy                           0.75     39648\n",
      "   macro avg       0.74      0.75      0.74     39648\n",
      "weighted avg       0.75      0.75      0.75     39648\n",
      "\n"
     ]
    }
   ],
   "source": [
    "print(classification_report(y_test, best_lr_estimator.predict(X_test)))"
   ]
  },
  {
   "cell_type": "code",
   "execution_count": 31,
   "metadata": {},
   "outputs": [
    {
     "data": {
      "image/png": "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\n",
      "text/plain": [
       "<Figure size 800x600 with 1 Axes>"
      ]
     },
     "metadata": {},
     "output_type": "display_data"
    }
   ],
   "source": [
    "lr_y_pred = best_lr_estimator.predict(X_test)\n",
    "cm = confusion_matrix(y_test, lr_y_pred)\n",
    "\n",
    "plt.figure(figsize=(8, 6))\n",
    "sns.heatmap(cm, annot=True, fmt=\"d\", cmap=\"Blues\", cbar=False)\n",
    "plt.xlabel(\"Predicted labels\")\n",
    "plt.ylabel(\"True labels\")\n",
    "plt.title(\"Confusion Matrix - Test Data\")\n",
    "plt.show()"
   ]
  },
  {
   "cell_type": "markdown",
   "metadata": {},
   "source": [
    "# Hyperparameters for logistic regression"
   ]
  },
  {
   "cell_type": "code",
   "execution_count": 46,
   "metadata": {},
   "outputs": [
    {
     "name": "stdout",
     "output_type": "stream",
     "text": [
      "Fitting 3 folds for each of 28 candidates, totalling 84 fits\n",
      "[CV 1/3] END C=0.001, penalty=l1, solver=liblinear;, score=0.710 total time=   1.0s\n",
      "[CV 2/3] END C=0.001, penalty=l1, solver=liblinear;, score=0.708 total time=   1.0s\n",
      "[CV 3/3] END C=0.001, penalty=l1, solver=liblinear;, score=0.706 total time=   1.0s\n",
      "[CV 1/3] END ..C=0.001, penalty=l1, solver=saga;, score=0.725 total time=   0.8s\n",
      "[CV 2/3] END ..C=0.001, penalty=l1, solver=saga;, score=0.722 total time=   0.9s\n",
      "[CV 3/3] END ..C=0.001, penalty=l1, solver=saga;, score=0.717 total time=   0.8s\n",
      "[CV 1/3] END C=0.001, penalty=l2, solver=liblinear;, score=0.714 total time=   0.2s\n",
      "[CV 2/3] END C=0.001, penalty=l2, solver=liblinear;, score=0.710 total time=   0.2s\n",
      "[CV 3/3] END C=0.001, penalty=l2, solver=liblinear;, score=0.709 total time=   0.2s\n",
      "[CV 1/3] END ..C=0.001, penalty=l2, solver=saga;, score=0.719 total time=   0.8s\n",
      "[CV 2/3] END ..C=0.001, penalty=l2, solver=saga;, score=0.714 total time=   0.7s\n",
      "[CV 3/3] END ..C=0.001, penalty=l2, solver=saga;, score=0.712 total time=   0.8s\n",
      "[CV 1/3] END C=0.01, penalty=l1, solver=liblinear;, score=0.755 total time=  10.1s\n",
      "[CV 2/3] END C=0.01, penalty=l1, solver=liblinear;, score=0.750 total time=  10.8s\n",
      "[CV 3/3] END C=0.01, penalty=l1, solver=liblinear;, score=0.748 total time=   8.5s\n",
      "[CV 1/3] END ...C=0.01, penalty=l1, solver=saga;, score=0.753 total time=   0.9s\n",
      "[CV 2/3] END ...C=0.01, penalty=l1, solver=saga;, score=0.749 total time=   0.8s\n",
      "[CV 3/3] END ...C=0.01, penalty=l1, solver=saga;, score=0.746 total time=   0.8s\n",
      "[CV 1/3] END C=0.01, penalty=l2, solver=liblinear;, score=0.748 total time=   0.3s\n",
      "[CV 2/3] END C=0.01, penalty=l2, solver=liblinear;, score=0.743 total time=   0.3s\n",
      "[CV 3/3] END C=0.01, penalty=l2, solver=liblinear;, score=0.742 total time=   0.3s\n",
      "[CV 1/3] END ...C=0.01, penalty=l2, solver=saga;, score=0.749 total time=   0.8s\n",
      "[CV 2/3] END ...C=0.01, penalty=l2, solver=saga;, score=0.745 total time=   0.7s\n",
      "[CV 3/3] END ...C=0.01, penalty=l2, solver=saga;, score=0.742 total time=   0.7s\n",
      "[CV 1/3] END C=0.1, penalty=l1, solver=liblinear;, score=0.757 total time=  39.3s\n",
      "[CV 2/3] END C=0.1, penalty=l1, solver=liblinear;, score=0.751 total time=  30.6s\n",
      "[CV 3/3] END C=0.1, penalty=l1, solver=liblinear;, score=0.751 total time=  37.0s\n",
      "[CV 1/3] END ....C=0.1, penalty=l1, solver=saga;, score=0.757 total time=   0.9s\n",
      "[CV 2/3] END ....C=0.1, penalty=l1, solver=saga;, score=0.751 total time=   0.9s\n",
      "[CV 3/3] END ....C=0.1, penalty=l1, solver=saga;, score=0.751 total time=   0.9s\n",
      "[CV 1/3] END C=0.1, penalty=l2, solver=liblinear;, score=0.757 total time=   0.5s\n",
      "[CV 2/3] END C=0.1, penalty=l2, solver=liblinear;, score=0.751 total time=   0.5s\n",
      "[CV 3/3] END C=0.1, penalty=l2, solver=liblinear;, score=0.750 total time=   0.6s\n",
      "[CV 1/3] END ....C=0.1, penalty=l2, solver=saga;, score=0.757 total time=   0.8s\n",
      "[CV 2/3] END ....C=0.1, penalty=l2, solver=saga;, score=0.750 total time=   0.8s\n",
      "[CV 3/3] END ....C=0.1, penalty=l2, solver=saga;, score=0.750 total time=   0.7s\n"
     ]
    },
    {
     "name": "stderr",
     "output_type": "stream",
     "text": [
      "C:\\Users\\soboc\\anaconda3\\lib\\site-packages\\sklearn\\svm\\_base.py:1237: ConvergenceWarning: Liblinear failed to converge, increase the number of iterations.\n",
      "  warnings.warn(\n"
     ]
    },
    {
     "name": "stdout",
     "output_type": "stream",
     "text": [
      "[CV 1/3] END C=1.0, penalty=l1, solver=liblinear;, score=0.757 total time= 2.2min\n"
     ]
    },
    {
     "name": "stderr",
     "output_type": "stream",
     "text": [
      "C:\\Users\\soboc\\anaconda3\\lib\\site-packages\\sklearn\\svm\\_base.py:1237: ConvergenceWarning: Liblinear failed to converge, increase the number of iterations.\n",
      "  warnings.warn(\n"
     ]
    },
    {
     "name": "stdout",
     "output_type": "stream",
     "text": [
      "[CV 2/3] END C=1.0, penalty=l1, solver=liblinear;, score=0.751 total time= 1.2min\n"
     ]
    },
    {
     "name": "stderr",
     "output_type": "stream",
     "text": [
      "C:\\Users\\soboc\\anaconda3\\lib\\site-packages\\sklearn\\svm\\_base.py:1237: ConvergenceWarning: Liblinear failed to converge, increase the number of iterations.\n",
      "  warnings.warn(\n"
     ]
    },
    {
     "name": "stdout",
     "output_type": "stream",
     "text": [
      "[CV 3/3] END C=1.0, penalty=l1, solver=liblinear;, score=0.751 total time= 2.3min\n",
      "[CV 1/3] END ....C=1.0, penalty=l1, solver=saga;, score=0.757 total time=   5.8s\n",
      "[CV 2/3] END ....C=1.0, penalty=l1, solver=saga;, score=0.751 total time=   5.1s\n",
      "[CV 3/3] END ....C=1.0, penalty=l1, solver=saga;, score=0.751 total time=   4.8s\n",
      "[CV 1/3] END C=1.0, penalty=l2, solver=liblinear;, score=0.757 total time=   0.9s\n",
      "[CV 2/3] END C=1.0, penalty=l2, solver=liblinear;, score=0.751 total time=   1.4s\n",
      "[CV 3/3] END C=1.0, penalty=l2, solver=liblinear;, score=0.751 total time=   1.4s\n",
      "[CV 1/3] END ....C=1.0, penalty=l2, solver=saga;, score=0.757 total time=   2.2s\n",
      "[CV 2/3] END ....C=1.0, penalty=l2, solver=saga;, score=0.751 total time=   2.1s\n",
      "[CV 3/3] END ....C=1.0, penalty=l2, solver=saga;, score=0.751 total time=   2.3s\n",
      "[CV 1/3] END C=10.0, penalty=l1, solver=liblinear;, score=0.757 total time= 2.8min\n"
     ]
    },
    {
     "name": "stderr",
     "output_type": "stream",
     "text": [
      "C:\\Users\\soboc\\anaconda3\\lib\\site-packages\\sklearn\\svm\\_base.py:1237: ConvergenceWarning: Liblinear failed to converge, increase the number of iterations.\n",
      "  warnings.warn(\n"
     ]
    },
    {
     "name": "stdout",
     "output_type": "stream",
     "text": [
      "[CV 2/3] END C=10.0, penalty=l1, solver=liblinear;, score=0.751 total time= 2.5min\n"
     ]
    },
    {
     "name": "stderr",
     "output_type": "stream",
     "text": [
      "C:\\Users\\soboc\\anaconda3\\lib\\site-packages\\sklearn\\svm\\_base.py:1237: ConvergenceWarning: Liblinear failed to converge, increase the number of iterations.\n",
      "  warnings.warn(\n"
     ]
    },
    {
     "name": "stdout",
     "output_type": "stream",
     "text": [
      "[CV 3/3] END C=10.0, penalty=l1, solver=liblinear;, score=0.751 total time= 1.3min\n",
      "[CV 1/3] END ...C=10.0, penalty=l1, solver=saga;, score=0.757 total time=   5.4s\n",
      "[CV 2/3] END ...C=10.0, penalty=l1, solver=saga;, score=0.751 total time=   4.7s\n",
      "[CV 3/3] END ...C=10.0, penalty=l1, solver=saga;, score=0.751 total time=   6.4s\n",
      "[CV 1/3] END C=10.0, penalty=l2, solver=liblinear;, score=0.757 total time=   1.2s\n",
      "[CV 2/3] END C=10.0, penalty=l2, solver=liblinear;, score=0.751 total time=   1.8s\n",
      "[CV 3/3] END C=10.0, penalty=l2, solver=liblinear;, score=0.751 total time=   1.6s\n",
      "[CV 1/3] END ...C=10.0, penalty=l2, solver=saga;, score=0.757 total time=   4.0s\n",
      "[CV 2/3] END ...C=10.0, penalty=l2, solver=saga;, score=0.751 total time=   3.3s\n",
      "[CV 3/3] END ...C=10.0, penalty=l2, solver=saga;, score=0.751 total time=   3.5s\n"
     ]
    },
    {
     "name": "stderr",
     "output_type": "stream",
     "text": [
      "C:\\Users\\soboc\\anaconda3\\lib\\site-packages\\sklearn\\svm\\_base.py:1237: ConvergenceWarning: Liblinear failed to converge, increase the number of iterations.\n",
      "  warnings.warn(\n"
     ]
    },
    {
     "name": "stdout",
     "output_type": "stream",
     "text": [
      "[CV 1/3] END C=100.0, penalty=l1, solver=liblinear;, score=0.757 total time= 2.8min\n",
      "[CV 2/3] END C=100.0, penalty=l1, solver=liblinear;, score=0.751 total time= 4.4min\n",
      "[CV 3/3] END C=100.0, penalty=l1, solver=liblinear;, score=0.751 total time= 4.3min\n",
      "[CV 1/3] END ..C=100.0, penalty=l1, solver=saga;, score=0.757 total time=   4.9s\n",
      "[CV 2/3] END ..C=100.0, penalty=l1, solver=saga;, score=0.751 total time=   5.3s\n",
      "[CV 3/3] END ..C=100.0, penalty=l1, solver=saga;, score=0.751 total time=   7.3s\n",
      "[CV 1/3] END C=100.0, penalty=l2, solver=liblinear;, score=0.757 total time=   1.6s\n",
      "[CV 2/3] END C=100.0, penalty=l2, solver=liblinear;, score=0.751 total time=   2.3s\n",
      "[CV 3/3] END C=100.0, penalty=l2, solver=liblinear;, score=0.751 total time=   1.7s\n",
      "[CV 1/3] END ..C=100.0, penalty=l2, solver=saga;, score=0.757 total time=   6.0s\n",
      "[CV 2/3] END ..C=100.0, penalty=l2, solver=saga;, score=0.751 total time=   4.8s\n",
      "[CV 3/3] END ..C=100.0, penalty=l2, solver=saga;, score=0.751 total time=   4.2s\n",
      "[CV 1/3] END C=1000.0, penalty=l1, solver=liblinear;, score=0.757 total time= 3.7min\n"
     ]
    },
    {
     "name": "stderr",
     "output_type": "stream",
     "text": [
      "C:\\Users\\soboc\\anaconda3\\lib\\site-packages\\sklearn\\svm\\_base.py:1237: ConvergenceWarning: Liblinear failed to converge, increase the number of iterations.\n",
      "  warnings.warn(\n"
     ]
    },
    {
     "name": "stdout",
     "output_type": "stream",
     "text": [
      "[CV 2/3] END C=1000.0, penalty=l1, solver=liblinear;, score=0.751 total time= 3.7min\n"
     ]
    },
    {
     "name": "stderr",
     "output_type": "stream",
     "text": [
      "C:\\Users\\soboc\\anaconda3\\lib\\site-packages\\sklearn\\svm\\_base.py:1237: ConvergenceWarning: Liblinear failed to converge, increase the number of iterations.\n",
      "  warnings.warn(\n"
     ]
    },
    {
     "name": "stdout",
     "output_type": "stream",
     "text": [
      "[CV 3/3] END C=1000.0, penalty=l1, solver=liblinear;, score=0.751 total time= 3.8min\n",
      "[CV 1/3] END .C=1000.0, penalty=l1, solver=saga;, score=0.757 total time=   6.3s\n",
      "[CV 2/3] END .C=1000.0, penalty=l1, solver=saga;, score=0.751 total time=   5.3s\n",
      "[CV 3/3] END .C=1000.0, penalty=l1, solver=saga;, score=0.751 total time=   5.2s\n",
      "[CV 1/3] END C=1000.0, penalty=l2, solver=liblinear;, score=0.757 total time=   1.2s\n",
      "[CV 2/3] END C=1000.0, penalty=l2, solver=liblinear;, score=0.751 total time=   1.8s\n",
      "[CV 3/3] END C=1000.0, penalty=l2, solver=liblinear;, score=0.751 total time=   2.0s\n",
      "[CV 1/3] END .C=1000.0, penalty=l2, solver=saga;, score=0.757 total time=   4.3s\n",
      "[CV 2/3] END .C=1000.0, penalty=l2, solver=saga;, score=0.751 total time=   4.9s\n",
      "[CV 3/3] END .C=1000.0, penalty=l2, solver=saga;, score=0.751 total time=   4.7s\n",
      "tuned hpyerparameters :(best parameters)  {'C': 100.0, 'penalty': 'l2', 'solver': 'saga'}\n",
      "accuracy : 0.753247326472962\n"
     ]
    }
   ],
   "source": [
    "grid = {\"C\": np.logspace(-3, 3, 7), \"penalty\": [\"l1\", \"l2\"], \"solver\": [\"liblinear\", \"saga\"]}\n",
    "logreg=LogisticRegression(max_iter=100)\n",
    "logreg_cv=GridSearchCV(logreg,grid,cv=3,verbose=3,refit=True)\n",
    "logreg_cv.fit(X_train,y_train)\n",
    "\n",
    "print(\"tuned hpyerparameters :(best parameters) \", logreg_cv.best_params_)\n",
    "print(\"accuracy :\",logreg_cv.best_score_)"
   ]
  },
  {
   "cell_type": "markdown",
   "metadata": {},
   "source": [
    "# Bayes optimization for LinearSVC"
   ]
  },
  {
   "cell_type": "code",
   "execution_count": 34,
   "metadata": {},
   "outputs": [
    {
     "name": "stderr",
     "output_type": "stream",
     "text": [
      "C:\\Users\\soboc\\anaconda3\\lib\\site-packages\\skopt\\space\\space.py:110: UserWarning: Dimension [1000, 2000] was inferred to Integer(low=1000, high=2000, prior='uniform', transform='identity'). In upcoming versions of scikit-optimize, it will be inferred to Categorical(categories=(1000, 2000), prior=None). See the documentation of the check_dimension function for the upcoming API.\n",
      "  warnings.warn(\n",
      "C:\\Users\\soboc\\anaconda3\\lib\\site-packages\\skopt\\space\\space.py:110: UserWarning: Dimension [1000, 2000] was inferred to Integer(low=1000, high=2000, prior='uniform', transform='identity'). In upcoming versions of scikit-optimize, it will be inferred to Categorical(categories=(1000, 2000), prior=None). See the documentation of the check_dimension function for the upcoming API.\n",
      "  warnings.warn(\n",
      "C:\\Users\\soboc\\anaconda3\\lib\\site-packages\\skopt\\space\\space.py:110: UserWarning: Dimension [1000, 2000] was inferred to Integer(low=1000, high=2000, prior='uniform', transform='identity'). In upcoming versions of scikit-optimize, it will be inferred to Categorical(categories=(1000, 2000), prior=None). See the documentation of the check_dimension function for the upcoming API.\n",
      "  warnings.warn(\n"
     ]
    },
    {
     "name": "stdout",
     "output_type": "stream",
     "text": [
      "Best parameters: OrderedDict([('C', 5.434076336596356), ('dual', False), ('max_iter', 1496), ('penalty', 'l2'), ('tol', 0.001)])\n",
      "Best ROC AUC: 0.8378168292706285\n"
     ]
    }
   ],
   "source": [
    "params = {\n",
    "    'C': Real(1e-4, 10.0),\n",
    "    'penalty': ['l1', 'l2'],\n",
    "    'tol': [1e-3, 1e-4, 1e-5],\n",
    "    'dual': [False],\n",
    "    'max_iter': [1000, 2000]\n",
    "}\n",
    "\n",
    "def custom_scoring_function(model, X, y):\n",
    "    y_score = model.decision_function(X)\n",
    "    return roc_auc_score(y, y_score)\n",
    "\n",
    "tfidf_lSVC_model=LinearSVC()\n",
    "\n",
    "opt = BayesSearchCV(\n",
    "    estimator=tfidf_lSVC_model,\n",
    "    search_spaces=params,\n",
    "    scoring=custom_scoring_function,\n",
    "    n_iter=10,\n",
    "    cv=StratifiedKFold(n_splits=5),\n",
    "    random_state=42,\n",
    "    n_jobs=-1\n",
    ")\n",
    "\n",
    "opt.fit(X_train, y_train)\n",
    "print(\"Best parameters:\", opt.best_params_)\n",
    "print(\"Best ROC AUC:\", opt.best_score_)"
   ]
  },
  {
   "cell_type": "code",
   "execution_count": 35,
   "metadata": {},
   "outputs": [
    {
     "name": "stdout",
     "output_type": "stream",
     "text": [
      "Test score:  0.8348929861018266\n"
     ]
    }
   ],
   "source": [
    "test_score = opt.score(X_test, y_test)\n",
    "print(\"Test score: \", test_score)"
   ]
  },
  {
   "cell_type": "code",
   "execution_count": 36,
   "metadata": {},
   "outputs": [],
   "source": [
    "best_lSVC_estimator = opt.best_estimator_"
   ]
  },
  {
   "cell_type": "code",
   "execution_count": 37,
   "metadata": {},
   "outputs": [
    {
     "name": "stdout",
     "output_type": "stream",
     "text": [
      "              precision    recall  f1-score   support\n",
      "\n",
      "           0       0.79      0.76      0.78     22677\n",
      "           1       0.70      0.74      0.72     16971\n",
      "\n",
      "    accuracy                           0.75     39648\n",
      "   macro avg       0.75      0.75      0.75     39648\n",
      "weighted avg       0.75      0.75      0.75     39648\n",
      "\n"
     ]
    }
   ],
   "source": [
    "print(classification_report(y_test,best_lSVC_estimator.predict(X_test)))"
   ]
  },
  {
   "cell_type": "code",
   "execution_count": 38,
   "metadata": {},
   "outputs": [
    {
     "data": {
      "image/png": "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\n",
      "text/plain": [
       "<Figure size 800x600 with 1 Axes>"
      ]
     },
     "metadata": {},
     "output_type": "display_data"
    }
   ],
   "source": [
    "lSVC_y_pred = best_lSVC_estimator.predict(X_test)\n",
    "cm = confusion_matrix(y_test, lSVC_y_pred)\n",
    "\n",
    "plt.figure(figsize=(8, 6))\n",
    "sns.heatmap(cm, annot=True, fmt=\"d\", cmap=\"Blues\", cbar=False)\n",
    "plt.xlabel(\"Predicted labels\")\n",
    "plt.ylabel(\"True labels\")\n",
    "plt.title(\"Confusion Matrix - Training Data\")\n",
    "plt.show()"
   ]
  },
  {
   "cell_type": "markdown",
   "metadata": {},
   "source": [
    "# Bayes optimization for Ridge"
   ]
  },
  {
   "cell_type": "code",
   "execution_count": 39,
   "metadata": {},
   "outputs": [
    {
     "name": "stdout",
     "output_type": "stream",
     "text": [
      "Best parameters: OrderedDict([('alpha', 0.036402709516706794), ('max_iter', 2000), ('solver', 'sag'), ('tol', 0.001)])\n",
      "Best ROC AUC: 0.8376711605580944\n"
     ]
    }
   ],
   "source": [
    "params = {\n",
    "    'alpha': Real(1e-4, 10.0), \n",
    "    'solver': ['auto', 'sparse_cg', 'sag'],\n",
    "    'tol': [1e-3, 1e-4, 1e-5],\n",
    "    'max_iter': [1000, 1500, 2000]\n",
    "}\n",
    "opt = BayesSearchCV(\n",
    "    estimator=RidgeClassifier(),\n",
    "    search_spaces=params,\n",
    "    scoring='roc_auc',\n",
    "    n_iter=10,\n",
    "    cv=StratifiedKFold(n_splits=10),\n",
    "    random_state=42,\n",
    "    n_jobs=-1\n",
    ")\n",
    "\n",
    "opt.fit(X_train, y_train)\n",
    "print(\"Best parameters:\", opt.best_params_)\n",
    "print(\"Best ROC AUC:\", opt.best_score_)"
   ]
  },
  {
   "cell_type": "code",
   "execution_count": 40,
   "metadata": {},
   "outputs": [
    {
     "name": "stdout",
     "output_type": "stream",
     "text": [
      "Best ROC AUC: 0.8347827565336413\n"
     ]
    }
   ],
   "source": [
    "best_ridge_estimator = opt.best_estimator_\n",
    "y_scores = best_ridge_estimator.decision_function(X_test)\n",
    "\n",
    "roc_auc = roc_auc_score(y_test, y_scores)\n",
    "print(\"Best ROC AUC:\", roc_auc)"
   ]
  },
  {
   "cell_type": "code",
   "execution_count": 42,
   "metadata": {},
   "outputs": [
    {
     "name": "stdout",
     "output_type": "stream",
     "text": [
      "              precision    recall  f1-score   support\n",
      "\n",
      "           0       0.80      0.76      0.78     22677\n",
      "           1       0.69      0.74      0.72     16971\n",
      "\n",
      "    accuracy                           0.75     39648\n",
      "   macro avg       0.75      0.75      0.75     39648\n",
      "weighted avg       0.75      0.75      0.75     39648\n",
      "\n"
     ]
    }
   ],
   "source": [
    "print(classification_report(y_test,best_ridge_estimator.predict(X_test)))"
   ]
  },
  {
   "cell_type": "code",
   "execution_count": 43,
   "metadata": {},
   "outputs": [
    {
     "data": {
      "image/png": "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\n",
      "text/plain": [
       "<Figure size 800x600 with 1 Axes>"
      ]
     },
     "metadata": {},
     "output_type": "display_data"
    }
   ],
   "source": [
    "ridge_y_pred = best_ridge_estimator.predict(X_test)\n",
    "cm = confusion_matrix(y_test, ridge_y_pred)\n",
    "\n",
    "plt.figure(figsize=(8, 6))\n",
    "sns.heatmap(cm, annot=True, fmt=\"d\", cmap=\"Blues\", cbar=False)\n",
    "plt.xlabel(\"Predicted labels\")\n",
    "plt.ylabel(\"True labels\")\n",
    "plt.title(\"Confusion Matrix - Test Data\")\n",
    "plt.show()"
   ]
  },
  {
   "cell_type": "code",
   "execution_count": null,
   "metadata": {},
   "outputs": [],
>>>>>>> 592000bd598a06090cd59ff3420c6d9ce335d2f1
   "source": []
  }
 ],
 "metadata": {
  "kernelspec": {
   "display_name": "Python 3 (ipykernel)",
   "language": "python",
   "name": "python3"
  },
  "language_info": {
   "codemirror_mode": {
    "name": "ipython",
    "version": 3
   },
   "file_extension": ".py",
   "mimetype": "text/x-python",
   "name": "python",
   "nbconvert_exporter": "python",
   "pygments_lexer": "ipython3",
   "version": "3.9.19"
  }
 },
 "nbformat": 4,
 "nbformat_minor": 2
}
