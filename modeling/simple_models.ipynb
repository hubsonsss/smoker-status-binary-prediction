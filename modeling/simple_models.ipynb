{
 "cells": [
  {
   "cell_type": "code",
   "execution_count": 41,
   "metadata": {},
   "outputs": [],
   "source": [
    "from sklearn.tree import DecisionTreeClassifier\n",
    "from sklearn.svm import SVC\n",
    "from sklearn.feature_selection import RFE\n",
    "from sklearn.linear_model import LassoCV\n",
    "from sklearn.ensemble import RandomForestClassifier\n",
    "from sklearn.linear_model import LogisticRegression\n",
    "from sklearn.neighbors import KNeighborsClassifier\n",
    "from sklearn.naive_bayes import GaussianNB\n",
    "from sklearn.metrics import accuracy_score, classification_report, confusion_matrix, recall_score\n",
    "from sklearn.model_selection import train_test_split, GridSearchCV, RandomizedSearchCV\n",
    "\n",
    "import pandas as pd\n",
    "import matplotlib.pyplot as plt\n",
    "import seaborn as sns"
   ]
  },
  {
   "cell_type": "code",
   "execution_count": 31,
   "metadata": {},
   "outputs": [],
   "source": [
    "data = pd.read_csv(\"../data/train_data_preprocessed.csv\")"
   ]
  },
  {
   "cell_type": "code",
   "execution_count": 32,
   "metadata": {},
   "outputs": [],
   "source": [
    "X = data.drop(['smoking'], axis = 1)\n",
    "y = data['smoking']"
   ]
  },
  {
   "cell_type": "code",
   "execution_count": 33,
   "metadata": {},
   "outputs": [],
   "source": [
    "X_train, X_test, y_train, y_test = train_test_split(X, y, test_size=0.2, random_state=42)"
   ]
  },
  {
   "cell_type": "code",
   "execution_count": null,
   "metadata": {},
   "outputs": [
    {
     "name": "stdout",
     "output_type": "stream",
     "text": [
      "Decision Tree Model\n",
      "Accuracy: 0.701725181598063\n",
      "Classification Report:\n",
      "              precision    recall  f1-score   support\n",
      "\n",
      "           0       0.74      0.75      0.74     22677\n",
      "           1       0.65      0.64      0.65     16971\n",
      "\n",
      "    accuracy                           0.70     39648\n",
      "   macro avg       0.70      0.69      0.69     39648\n",
      "weighted avg       0.70      0.70      0.70     39648\n",
      "\n",
      "--------------------------------------------------\n",
      "SVM Model\n",
      "Accuracy: 0.7663438256658596\n",
      "Classification Report:\n",
      "              precision    recall  f1-score   support\n",
      "\n",
      "           0       0.84      0.73      0.78     22677\n",
      "           1       0.69      0.81      0.75     16971\n",
      "\n",
      "    accuracy                           0.77     39648\n",
      "   macro avg       0.77      0.77      0.77     39648\n",
      "weighted avg       0.78      0.77      0.77     39648\n",
      "\n",
      "--------------------------------------------------\n",
      "Logistic Regression Model\n",
      "Accuracy: 0.7486884584342212\n",
      "Classification Report:\n",
      "              precision    recall  f1-score   support\n",
      "\n",
      "           0       0.79      0.77      0.78     22677\n",
      "           1       0.70      0.72      0.71     16971\n",
      "\n",
      "    accuracy                           0.75     39648\n",
      "   macro avg       0.74      0.74      0.74     39648\n",
      "weighted avg       0.75      0.75      0.75     39648\n",
      "\n",
      "--------------------------------------------------\n",
      "K-Neighbors Model\n",
      "Accuracy: 0.7300998789346247\n",
      "Classification Report:\n",
      "              precision    recall  f1-score   support\n",
      "\n",
      "           0       0.77      0.75      0.76     22677\n",
      "           1       0.68      0.70      0.69     16971\n",
      "\n",
      "    accuracy                           0.73     39648\n",
      "   macro avg       0.72      0.73      0.73     39648\n",
      "weighted avg       0.73      0.73      0.73     39648\n",
      "\n",
      "--------------------------------------------------\n",
      "Naive Bayes Model\n",
      "Accuracy: 0.7192796610169492\n",
      "Classification Report:\n",
      "              precision    recall  f1-score   support\n",
      "\n",
      "           0       0.80      0.68      0.74     22677\n",
      "           1       0.64      0.77      0.70     16971\n",
      "\n",
      "    accuracy                           0.72     39648\n",
      "   macro avg       0.72      0.73      0.72     39648\n",
      "weighted avg       0.73      0.72      0.72     39648\n",
      "\n",
      "--------------------------------------------------\n"
     ]
    }
   ],
   "source": [
    "models = {\n",
    "    \"Decision Tree\": DecisionTreeClassifier(random_state=42),\n",
    "    \"SVM\": SVC(random_state=42),\n",
    "    \"Logistic Regression\": LogisticRegression(random_state=42, max_iter=1000),\n",
    "    \"K-Neighbors\": KNeighborsClassifier(),\n",
    "    \"Naive Bayes\": GaussianNB()\n",
    "}\n",
    "\n",
    "\n",
    "for name, model in models.items():\n",
    "    model.fit(X_train, y_train)\n",
    "    y_pred = model.predict(X_test)\n",
    "    accuracy = accuracy_score(y_test, y_pred)\n",
    "    report = classification_report(y_test, y_pred)\n",
    "    \n",
    "    print(f\"{name} Model\")\n",
    "    print(f\"Accuracy: {accuracy}\")\n",
    "    print(\"Classification Report:\")\n",
    "    print(report)\n",
    "    print(\"-\" * 50)"
   ]
  },
  {
   "cell_type": "code",
   "execution_count": 19,
   "metadata": {},
   "outputs": [
    {
     "name": "stdout",
     "output_type": "stream",
     "text": [
      "Random Forest Model\n",
      "Accuracy: 0.7806698950766747\n",
      "Classification Report:\n",
      "              precision    recall  f1-score   support\n",
      "\n",
      "           0       0.83      0.78      0.80     22677\n",
      "           1       0.72      0.79      0.75     16971\n",
      "\n",
      "    accuracy                           0.78     39648\n",
      "   macro avg       0.78      0.78      0.78     39648\n",
      "weighted avg       0.78      0.78      0.78     39648\n",
      "\n",
      "--------------------------------------------------\n"
     ]
    }
   ],
   "source": [
    "rf = RandomForestClassifier(random_state=42)\n",
    "rf.fit(X_train, y_train)\n",
    "\n",
    "y_pred_rf = rf.predict(X_test)\n",
    "\n",
    "accuracy_rf = accuracy_score(y_test, y_pred_rf)\n",
    "report_rf = classification_report(y_test, y_pred_rf)\n",
    "\n",
    "print(\"Random Forest Model\")\n",
    "print(f\"Accuracy: {accuracy_rf}\")\n",
    "print(\"Classification Report:\")\n",
    "print(report_rf)\n",
    "print(\"-\" * 50)"
   ]
  },
  {
   "cell_type": "code",
   "execution_count": 7,
   "metadata": {},
   "outputs": [],
   "source": [
    "param_grid = {\n",
    "    'n_estimators': [100, 300],\n",
    "    'max_features': ['auto', 'sqrt'],\n",
    "    'max_depth': [10, 30, None],\n",
    "    'min_samples_split': [2, 5],\n",
    "    'min_samples_leaf': [1, 2],\n",
    "    'bootstrap': [True, False]\n",
    "}\n",
    "\n",
    "grid_search = GridSearchCV(estimator=RandomForestClassifier(random_state=42), param_grid=param_grid, cv=3, n_jobs=-1, verbose=2)"
   ]
  },
  {
   "cell_type": "code",
   "execution_count": 8,
   "metadata": {},
   "outputs": [
    {
     "name": "stdout",
     "output_type": "stream",
     "text": [
      "Fitting 3 folds for each of 96 candidates, totalling 288 fits\n"
     ]
    },
    {
     "name": "stderr",
     "output_type": "stream",
     "text": [
      "C:\\Users\\marty\\AppData\\Roaming\\Python\\Python312\\site-packages\\sklearn\\model_selection\\_validation.py:547: FitFailedWarning: \n",
      "144 fits failed out of a total of 288.\n",
      "The score on these train-test partitions for these parameters will be set to nan.\n",
      "If these failures are not expected, you can try to debug them by setting error_score='raise'.\n",
      "\n",
      "Below are more details about the failures:\n",
      "--------------------------------------------------------------------------------\n",
      "4 fits failed with the following error:\n",
      "Traceback (most recent call last):\n",
      "  File \"C:\\Users\\marty\\AppData\\Roaming\\Python\\Python312\\site-packages\\sklearn\\model_selection\\_validation.py\", line 895, in _fit_and_score\n",
      "    estimator.fit(X_train, y_train, **fit_params)\n",
      "  File \"C:\\Users\\marty\\AppData\\Roaming\\Python\\Python312\\site-packages\\sklearn\\base.py\", line 1467, in wrapper\n",
      "    estimator._validate_params()\n",
      "  File \"C:\\Users\\marty\\AppData\\Roaming\\Python\\Python312\\site-packages\\sklearn\\base.py\", line 666, in _validate_params\n",
      "    validate_parameter_constraints(\n",
      "  File \"C:\\Users\\marty\\AppData\\Roaming\\Python\\Python312\\site-packages\\sklearn\\utils\\_param_validation.py\", line 95, in validate_parameter_constraints\n",
      "    raise InvalidParameterError(\n",
      "sklearn.utils._param_validation.InvalidParameterError: The 'max_features' parameter of RandomForestClassifier must be an int in the range [1, inf), a float in the range (0.0, 1.0], a str among {'log2', 'sqrt'} or None. Got 'auto' instead.\n",
      "\n",
      "--------------------------------------------------------------------------------\n",
      "140 fits failed with the following error:\n",
      "Traceback (most recent call last):\n",
      "  File \"C:\\Users\\marty\\AppData\\Roaming\\Python\\Python312\\site-packages\\sklearn\\model_selection\\_validation.py\", line 895, in _fit_and_score\n",
      "    estimator.fit(X_train, y_train, **fit_params)\n",
      "  File \"C:\\Users\\marty\\AppData\\Roaming\\Python\\Python312\\site-packages\\sklearn\\base.py\", line 1467, in wrapper\n",
      "    estimator._validate_params()\n",
      "  File \"C:\\Users\\marty\\AppData\\Roaming\\Python\\Python312\\site-packages\\sklearn\\base.py\", line 666, in _validate_params\n",
      "    validate_parameter_constraints(\n",
      "  File \"C:\\Users\\marty\\AppData\\Roaming\\Python\\Python312\\site-packages\\sklearn\\utils\\_param_validation.py\", line 95, in validate_parameter_constraints\n",
      "    raise InvalidParameterError(\n",
      "sklearn.utils._param_validation.InvalidParameterError: The 'max_features' parameter of RandomForestClassifier must be an int in the range [1, inf), a float in the range (0.0, 1.0], a str among {'sqrt', 'log2'} or None. Got 'auto' instead.\n",
      "\n",
      "  warnings.warn(some_fits_failed_message, FitFailedWarning)\n",
      "C:\\Users\\marty\\AppData\\Roaming\\Python\\Python312\\site-packages\\sklearn\\model_selection\\_search.py:1051: UserWarning: One or more of the test scores are non-finite: [       nan        nan        nan        nan        nan        nan\n",
      "        nan        nan 0.76751665 0.7678067  0.76766798 0.76764906\n",
      " 0.76698699 0.76793911 0.76733379 0.7674599         nan        nan\n",
      "        nan        nan        nan        nan        nan        nan\n",
      " 0.77793331 0.78051226 0.77828012 0.7804492  0.7793016  0.78065098\n",
      " 0.77850711 0.78002043        nan        nan        nan        nan\n",
      "        nan        nan        nan        nan 0.77810987 0.78028526\n",
      " 0.77874672 0.78068881 0.77923224 0.78058792 0.77843145 0.78047442\n",
      "        nan        nan        nan        nan        nan        nan\n",
      "        nan        nan 0.76751665 0.7679202  0.7676932  0.76837419\n",
      " 0.76759231 0.76788867 0.7679202  0.76771212        nan        nan\n",
      "        nan        nan        nan        nan        nan        nan\n",
      " 0.77808464 0.78046181 0.77870889 0.78015285 0.77821706 0.7804429\n",
      " 0.7795286  0.7806699         nan        nan        nan        nan\n",
      "        nan        nan        nan        nan 0.77777568 0.77960427\n",
      " 0.77903047 0.78014023 0.77853864 0.78016546 0.7795286  0.78126892]\n",
      "  warnings.warn(\n"
     ]
    },
    {
     "name": "stdout",
     "output_type": "stream",
     "text": [
      "Best parameters found by GridSearchCV:\n",
      "{'bootstrap': False, 'max_depth': None, 'max_features': 'sqrt', 'min_samples_leaf': 2, 'min_samples_split': 5, 'n_estimators': 300}\n",
      "Accuracy with Grid Search: 0.7823345439870864\n",
      "Classification Report with Grid Search:\n",
      "              precision    recall  f1-score   support\n",
      "\n",
      "           0       0.84      0.77      0.80     22677\n",
      "           1       0.72      0.80      0.76     16971\n",
      "\n",
      "    accuracy                           0.78     39648\n",
      "   macro avg       0.78      0.78      0.78     39648\n",
      "weighted avg       0.79      0.78      0.78     39648\n",
      "\n"
     ]
    }
   ],
   "source": [
    "grid_search.fit(X_train, y_train)\n",
    "best_params = grid_search.best_params_\n",
    "print(\"Best parameters found by GridSearchCV:\")\n",
    "print(best_params)\n",
    "\n",
    "best_grid_model = grid_search.best_estimator_\n",
    "y_pred_grid = best_grid_model.predict(X_test)\n",
    "\n",
    "accuracy_grid = accuracy_score(y_test, y_pred_grid)\n",
    "report_grid = classification_report(y_test, y_pred_grid)\n",
    "\n",
    "print(f\"Accuracy with Grid Search: {accuracy_grid}\")\n",
    "print(\"Classification Report with Grid Search:\")\n",
    "print(report_grid)"
   ]
  },
  {
   "cell_type": "code",
   "execution_count": 21,
   "metadata": {},
   "outputs": [
    {
     "name": "stdout",
     "output_type": "stream",
     "text": [
      "Random Forest Model\n",
      "Accuracy: 0.7823345439870864\n",
      "Classification Report:\n",
      "              precision    recall  f1-score   support\n",
      "\n",
      "           0       0.84      0.77      0.80     22677\n",
      "           1       0.72      0.80      0.76     16971\n",
      "\n",
      "    accuracy                           0.78     39648\n",
      "   macro avg       0.78      0.78      0.78     39648\n",
      "weighted avg       0.79      0.78      0.78     39648\n",
      "\n",
      "--------------------------------------------------\n"
     ]
    }
   ],
   "source": [
    "rf = RandomForestClassifier(random_state=42, bootstrap=False, max_depth=None, max_features='sqrt', min_samples_leaf=2, min_samples_split=5, n_estimators=300)\n",
    "rf.fit(X_train, y_train)\n",
    "\n",
    "y_pred_rf = rf.predict(X_test)\n",
    "\n",
    "accuracy_rf = accuracy_score(y_test, y_pred_rf)\n",
    "report_rf = classification_report(y_test, y_pred_rf)\n",
    "\n",
    "print(\"Random Forest Model\")\n",
    "print(f\"Accuracy: {accuracy_rf}\")\n",
    "print(\"Classification Report:\")\n",
    "print(report_rf)\n",
    "print(\"-\" * 50)"
   ]
  },
  {
   "cell_type": "code",
   "execution_count": 29,
   "metadata": {},
   "outputs": [
    {
     "data": {
      "image/png": "[encoded data removed]",
      "text/plain": [
       "<Figure size 800x600 with 2 Axes>"
      ]
     },
     "metadata": {},
     "output_type": "display_data"
    }
   ],
   "source": [
    "conf_matrix = confusion_matrix(y_test, y_pred_rf)\n",
    "\n",
    "plt.figure(figsize=(8, 6))\n",
    "sns.heatmap(conf_matrix, annot=True, fmt='d', cmap='Blues', xticklabels=rf.classes_, yticklabels=rf.classes_)\n",
    "plt.xlabel('Predicted')\n",
    "plt.ylabel('Actual')\n",
    "plt.title('Confusion Matrix')\n",
    "plt.show()"
   ]
  },
  {
   "cell_type": "code",
   "execution_count": 34,
   "metadata": {},
   "outputs": [
    {
     "name": "stdout",
     "output_type": "stream",
     "text": [
      "Random Forest with Selected Features\n",
      "Accuracy: 0.7809725585149314\n",
      "Classification Report:\n",
      "              precision    recall  f1-score   support\n",
      "\n",
      "           0       0.83      0.77      0.80     22677\n",
      "           1       0.72      0.79      0.76     16971\n",
      "\n",
      "    accuracy                           0.78     39648\n",
      "   macro avg       0.78      0.78      0.78     39648\n",
      "weighted avg       0.79      0.78      0.78     39648\n",
      "\n"
     ]
    }
   ],
   "source": [
    "\n",
    "lasso = LassoCV(cv=5, random_state=42)\n",
    "lasso.fit(X_train, y_train)\n",
    "\n",
    "selected_features = X.columns[(lasso.coef_ != 0)]\n",
    "\n",
    "rf = RandomForestClassifier(random_state=42, bootstrap=False, max_depth=None, max_features='sqrt', min_samples_leaf=2, min_samples_split=5, n_estimators=300)\n",
    "rf.fit(X_train[selected_features], y_train)\n",
    "\n",
    "y_pred = rf.predict(X_test[selected_features])\n",
    "accuracy = accuracy_score(y_test, y_pred)\n",
    "report = classification_report(y_test, y_pred)\n",
    "\n",
    "print(\"Random Forest with Selected Features\")\n",
    "print(f\"Accuracy: {accuracy}\")\n",
    "print(\"Classification Report:\")\n",
    "print(report)"
   ]
  },
  {
   "cell_type": "markdown",
   "metadata": {},
   "source": [
    "Lasso doesn't work well."
   ]
  },
  {
   "cell_type": "code",
   "execution_count": 48,
   "metadata": {},
   "outputs": [],
   "source": [
    "rf = RandomForestClassifier(random_state=42, bootstrap=False, max_depth=None, max_features='sqrt', min_samples_leaf=2, min_samples_split=5, n_estimators=300)\n",
    "\n",
    "\n",
    "for n_features in range(11, 22):\n",
    "    rfe = RFE(estimator=rf, n_features_to_select=n_features)\n",
    "    rfe.fit(X_train, y_train)\n",
    "    \n",
    "    selected_features = X.columns[rfe.support_]\n",
    "    \n",
    "    rf.fit(X_train[selected_features], y_train)\n",
    "    \n",
    "    y_pred = rf.predict(X_test[selected_features])\n",
    "    recall = recall_score(y_test, y_pred, pos_label=1)\n",
    "    \n",
    "    results[n_features] = {\n",
    "        'features': selected_features,\n",
    "        'recall': recall\n",
    "    }\n",
    "\n",
    "for n_features, result in results.items():\n",
    "    print(f\"Number of features: {n_features}\")\n",
    "    print(f\"Selected features: {list(result['features'])}\")\n",
    "    print(f\"Recall: {result['recall']:.2f}\")\n",
    "    print(\"-\" * 50)\n",
    "\n",
    "optimal_n_features = max(results, key=lambda x: results[x]['recall'])\n",
    "optimal_features = results[optimal_n_features]['features']\n",
    "optimal_recall = results[optimal_n_features]['recall']\n",
    "\n",
    "print(f\"Optimal number of features: {optimal_n_features}\")\n",
    "print(f\"Selected features: {list(optimal_features)}\")\n",
    "print(f\"Recall: {optimal_recall:.2f}\")"
   ]
  }
 ],
 "metadata": {
  "kernelspec": {
   "display_name": "Python 3",
   "language": "python",
   "name": "python3"
  },
  "language_info": {
   "codemirror_mode": {
    "name": "ipython",
    "version": 3
   },
   "file_extension": ".py",
   "mimetype": "text/x-python",
   "name": "python",
   "nbconvert_exporter": "python",
   "pygments_lexer": "ipython3",
   "version": "3.12.1"
  }
 },
 "nbformat": 4,
 "nbformat_minor": 2
}
